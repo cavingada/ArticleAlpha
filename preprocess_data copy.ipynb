{
 "cells": [
  {
   "cell_type": "markdown",
   "metadata": {},
   "source": [
    "Loading Data"
   ]
  },
  {
   "cell_type": "code",
   "execution_count": 1,
   "metadata": {},
   "outputs": [],
   "source": [
    "import pandas as pd\n",
    "import warnings\n",
    "warnings.filterwarnings('ignore')\n",
    "articles = pd.read_csv('articles.csv')"
   ]
  },
  {
   "cell_type": "markdown",
   "metadata": {},
   "source": [
    "Preprocessing Data"
   ]
  },
  {
   "cell_type": "code",
   "execution_count": 2,
   "metadata": {},
   "outputs": [
    {
     "data": {
      "text/html": [
       "<div>\n",
       "<style scoped>\n",
       "    .dataframe tbody tr th:only-of-type {\n",
       "        vertical-align: middle;\n",
       "    }\n",
       "\n",
       "    .dataframe tbody tr th {\n",
       "        vertical-align: top;\n",
       "    }\n",
       "\n",
       "    .dataframe thead th {\n",
       "        text-align: right;\n",
       "    }\n",
       "</style>\n",
       "<table border=\"1\" class=\"dataframe\">\n",
       "  <thead>\n",
       "    <tr style=\"text-align: right;\">\n",
       "      <th></th>\n",
       "      <th>Unnamed: 0</th>\n",
       "      <th>title</th>\n",
       "      <th>date</th>\n",
       "      <th>stock</th>\n",
       "    </tr>\n",
       "  </thead>\n",
       "  <tbody>\n",
       "    <tr>\n",
       "      <th>0</th>\n",
       "      <td>0.0</td>\n",
       "      <td>Stocks That Hit 52-Week Highs On Friday</td>\n",
       "      <td>2020-06-05 10:30:00-04:00</td>\n",
       "      <td>A</td>\n",
       "    </tr>\n",
       "    <tr>\n",
       "      <th>1</th>\n",
       "      <td>1.0</td>\n",
       "      <td>Stocks That Hit 52-Week Highs On Wednesday</td>\n",
       "      <td>2020-06-03 10:45:00-04:00</td>\n",
       "      <td>A</td>\n",
       "    </tr>\n",
       "    <tr>\n",
       "      <th>2</th>\n",
       "      <td>2.0</td>\n",
       "      <td>71 Biggest Movers From Friday</td>\n",
       "      <td>2020-05-26 04:30:00-04:00</td>\n",
       "      <td>A</td>\n",
       "    </tr>\n",
       "    <tr>\n",
       "      <th>3</th>\n",
       "      <td>3.0</td>\n",
       "      <td>46 Stocks Moving In Friday's Mid-Day Session</td>\n",
       "      <td>2020-05-22 12:45:00-04:00</td>\n",
       "      <td>A</td>\n",
       "    </tr>\n",
       "    <tr>\n",
       "      <th>4</th>\n",
       "      <td>4.0</td>\n",
       "      <td>B of A Securities Maintains Neutral on Agilent...</td>\n",
       "      <td>2020-05-22 11:38:00-04:00</td>\n",
       "      <td>A</td>\n",
       "    </tr>\n",
       "  </tbody>\n",
       "</table>\n",
       "</div>"
      ],
      "text/plain": [
       "   Unnamed: 0                                              title  \\\n",
       "0         0.0            Stocks That Hit 52-Week Highs On Friday   \n",
       "1         1.0         Stocks That Hit 52-Week Highs On Wednesday   \n",
       "2         2.0                      71 Biggest Movers From Friday   \n",
       "3         3.0       46 Stocks Moving In Friday's Mid-Day Session   \n",
       "4         4.0  B of A Securities Maintains Neutral on Agilent...   \n",
       "\n",
       "                        date stock  \n",
       "0  2020-06-05 10:30:00-04:00     A  \n",
       "1  2020-06-03 10:45:00-04:00     A  \n",
       "2  2020-05-26 04:30:00-04:00     A  \n",
       "3  2020-05-22 12:45:00-04:00     A  \n",
       "4  2020-05-22 11:38:00-04:00     A  "
      ]
     },
     "execution_count": 2,
     "metadata": {},
     "output_type": "execute_result"
    }
   ],
   "source": [
    "articles.head()"
   ]
  },
  {
   "cell_type": "code",
   "execution_count": 3,
   "metadata": {},
   "outputs": [
    {
     "name": "stderr",
     "output_type": "stream",
     "text": [
      "[nltk_data] Downloading package stopwords to\n",
      "[nltk_data]     C:\\Users\\yiann\\AppData\\Roaming\\nltk_data...\n",
      "[nltk_data]   Package stopwords is already up-to-date!\n"
     ]
    }
   ],
   "source": [
    "import nltk\n",
    "from datetime import datetime as dt\n",
    "import pytz\n",
    "from nltk.corpus import stopwords\n",
    "nltk.download('stopwords')\n",
    "\n",
    "# Credit to / help from https://saturncloud.io/blog/how-to-remove-stop-words-from-a-pandas-dataframe-using-python/\n",
    "def remove_stopwords(words_tokenized):\n",
    "    stop_words = set(stopwords.words('english'))  # List of english stopwords\n",
    "    return [word for word in words_tokenized if word not in stop_words] # Using list comprehension, only choose the words that aren't stopwords\n",
    "\n",
    "def convert_to_datetime(date_string):\n",
    "    \n",
    "    date_string, _ = date_string.rsplit(\"-\", 1)\n",
    "    \n",
    "    converted_date = dt.strptime(date_string, '%Y-%m-%d %H:%M:%S')\n",
    "    return converted_date\n",
    "\n",
    "def preprocess(df, sample_size=None):\n",
    "    df = df.dropna()\n",
    "    # sample if specified\n",
    "    if sample_size:\n",
    "        df = df.sample(sample_size)\n",
    "    # remove uncessary index column\n",
    "    df = df.drop(df.columns[0], axis=1)\n",
    "    # change stock column name to ticker\n",
    "    df.rename(columns={'stock': 'ticker'}, inplace=True)\n",
    "    # convert headlines to lowercase\n",
    "    # convert to datetime object\n",
    "    df['date'] = df['date'].apply(convert_to_datetime)\n",
    "    return df"
   ]
  },
  {
   "cell_type": "markdown",
   "metadata": {},
   "source": [
    "Grab Stock Returns\n",
    "\n",
    "Based on the time of the article published, we will retrieve two adjusted close prices of the stock and compute the corresponding return.\n",
    "\n",
    "If the time of the article is published before 4:00 P.M. (non-inclusive), then:\n",
    "1. The 'before' price will be the most recent (before the date) trading day's adjusted close price\n",
    "2. The 'after' price will be the most upcoming trading day's adjusted close price\n",
    "\n",
    "If the time of the article is published after 4:00 P.M., then:\n",
    "1. The 'before' price will be the same day's adjusted close price\n",
    "2. The 'after' priec will be the next day's adjusted close price"
   ]
  },
  {
   "cell_type": "code",
   "execution_count": 4,
   "metadata": {},
   "outputs": [],
   "source": [
    "import pandas_market_calendars as mcal\n",
    "from datetime import timedelta\n",
    "# The paramater forward is a boolean representing whether we are looking for the next valid trading day or the most recent trading day\n",
    "def getValidTradingCloseDate(date, forward=True):\n",
    "        nyse = mcal.get_calendar('NYSE')\n",
    "        if forward:\n",
    "            start_date = date\n",
    "            end_date = date+timedelta(days=15)\n",
    "        else:\n",
    "            start_date = date-timedelta(days=15)\n",
    "            end_date = date\n",
    "\n",
    "        validTradingDays = nyse.valid_days(start_date=start_date , end_date=end_date)\n",
    "        return validTradingDays.date[2] if forward else validTradingDays.date[-2]\n"
   ]
  },
  {
   "cell_type": "code",
   "execution_count": 5,
   "metadata": {},
   "outputs": [],
   "source": [
    "#Get all the yfinance data we need based on date.\n",
    "import yfinance as yf\n",
    "\n",
    "def retrieve_yfinance_data(row):\n",
    "    curr_date = row['date']\n",
    "    \n",
    "    eod = dt.strptime('16:00:00', '%H:%M:%S').time()\n",
    "    \n",
    "    if curr_date.time() > eod:\n",
    "        start_date = curr_date.date()\n",
    "        end_date = getValidTradingCloseDate(start_date, forward=True)\n",
    "    else:\n",
    "        end_date = curr_date.date()\n",
    "        start_date = getValidTradingCloseDate(end_date, forward=False)\n",
    "        end_date = end_date + timedelta(days=1)\n",
    "        \n",
    "    data = yf.download(row['ticker'], start=start_date, end=end_date, progress=False, show_errors=False)\n",
    "    \n",
    "    if len(data) > 0:\n",
    "        returns = (data['Adj Close'][-1] - data['Adj Close'][0]) / data['Adj Close'][0]\n",
    "        return returns\n",
    "    else:\n",
    "        return None"
   ]
  },
  {
   "cell_type": "code",
   "execution_count": 6,
   "metadata": {},
   "outputs": [],
   "source": [
    "from tqdm import tqdm\n",
    "\n",
    "def get_returns(df):\n",
    "    # df['returns'] = df.apply(retrieve_yfinance_data, axis=1)\n",
    "    for idx, row in tqdm(df.iterrows(), total=df.shape[0]):\n",
    "        returns = retrieve_yfinance_data(row)\n",
    "        # print(returns)\n",
    "        df.loc[idx,'returns'] = returns\n",
    "\n",
    "    return df"
   ]
  },
  {
   "cell_type": "markdown",
   "metadata": {},
   "source": [
    "Uncomment this code to \n",
    "1. sample two datasets of 50k samples from the 800k+ samples from the dataset.\n",
    "2. save each dataset to its own pkl file \n",
    "\n",
    "*Note: We saved 2 datasets of 50k samples each because we had two people download them simultaneously to save time.\n"
   ]
  },
  {
   "cell_type": "code",
   "execution_count": 7,
   "metadata": {},
   "outputs": [
    {
     "name": "stderr",
     "output_type": "stream",
     "text": [
      "100%|██████████| 100/100 [00:28<00:00,  3.53it/s]\n"
     ]
    }
   ],
   "source": [
    "small_test_set = preprocess(articles, sample_size=100)\n",
    "small_test_set = get_returns(small_test_set)\n",
    "pd.to_pickle(small_test_set, 'small_test_set.pkl')\n",
    "\n",
    "\n",
    "# fifty_thousand_articles_2 = preprocess(articles, sample_size=50000)\n",
    "# fifty_thousand_articles_2 = get_returns(50k_articles_2)\n",
    "# pd.to_pickle(fifty_thousand_articles_2, '50k_processed_articles_2.pkl')"
   ]
  },
  {
   "cell_type": "code",
   "execution_count": 12,
   "metadata": {},
   "outputs": [
    {
     "data": {
      "text/html": [
       "<div>\n",
       "<style scoped>\n",
       "    .dataframe tbody tr th:only-of-type {\n",
       "        vertical-align: middle;\n",
       "    }\n",
       "\n",
       "    .dataframe tbody tr th {\n",
       "        vertical-align: top;\n",
       "    }\n",
       "\n",
       "    .dataframe thead th {\n",
       "        text-align: right;\n",
       "    }\n",
       "</style>\n",
       "<table border=\"1\" class=\"dataframe\">\n",
       "  <thead>\n",
       "    <tr style=\"text-align: right;\">\n",
       "      <th></th>\n",
       "      <th>title</th>\n",
       "      <th>date</th>\n",
       "      <th>ticker</th>\n",
       "      <th>returns</th>\n",
       "    </tr>\n",
       "  </thead>\n",
       "  <tbody>\n",
       "    <tr>\n",
       "      <th>219534</th>\n",
       "      <td>Benzinga’s Top Upgrades (SBNY, CCL, MPW, MA, F...</td>\n",
       "      <td>2010-05-21 08:27:00</td>\n",
       "      <td>CCL</td>\n",
       "      <td>0.013952</td>\n",
       "    </tr>\n",
       "    <tr>\n",
       "      <th>912659</th>\n",
       "      <td>Top Performing Industries For August 9, 2016</td>\n",
       "      <td>2016-08-09 10:54:00</td>\n",
       "      <td>NTL</td>\n",
       "      <td>-0.010309</td>\n",
       "    </tr>\n",
       "    <tr>\n",
       "      <th>165581</th>\n",
       "      <td>Bridgeline DIgital Reports Q3 Loss $0.26 Vs Es...</td>\n",
       "      <td>2015-08-14 08:01:00</td>\n",
       "      <td>BLIN</td>\n",
       "      <td>-0.048276</td>\n",
       "    </tr>\n",
       "    <tr>\n",
       "      <th>1355251</th>\n",
       "      <td>Earnings Scheduled For March 24, 2015</td>\n",
       "      <td>2015-03-24 04:04:00</td>\n",
       "      <td>WSCI</td>\n",
       "      <td>0.001757</td>\n",
       "    </tr>\n",
       "    <tr>\n",
       "      <th>362331</th>\n",
       "      <td>Puts Purchased on Dick's Sporting Goods (DKS)</td>\n",
       "      <td>2011-01-06 12:40:00</td>\n",
       "      <td>DKS</td>\n",
       "      <td>-0.045442</td>\n",
       "    </tr>\n",
       "    <tr>\n",
       "      <th>...</th>\n",
       "      <td>...</td>\n",
       "      <td>...</td>\n",
       "      <td>...</td>\n",
       "      <td>...</td>\n",
       "    </tr>\n",
       "    <tr>\n",
       "      <th>1236358</th>\n",
       "      <td>Standpoint Research Downgrades Tempur-pedic In...</td>\n",
       "      <td>2013-10-01 11:17:00</td>\n",
       "      <td>TPX</td>\n",
       "      <td>0.023658</td>\n",
       "    </tr>\n",
       "    <tr>\n",
       "      <th>1370405</th>\n",
       "      <td>Sector Update: Utilities Leading, Consumer Goo...</td>\n",
       "      <td>2011-08-24 10:36:00</td>\n",
       "      <td>XLF</td>\n",
       "      <td>0.026678</td>\n",
       "    </tr>\n",
       "    <tr>\n",
       "      <th>90206</th>\n",
       "      <td>Aramark Acquires On-Demand Food Delivery Servi...</td>\n",
       "      <td>2019-08-06 06:44:00</td>\n",
       "      <td>ARMK</td>\n",
       "      <td>0.047018</td>\n",
       "    </tr>\n",
       "    <tr>\n",
       "      <th>1342675</th>\n",
       "      <td>Wheeler Real Estate Investment Trust Responds ...</td>\n",
       "      <td>2018-03-16 04:19:00</td>\n",
       "      <td>WHLR</td>\n",
       "      <td>0.064220</td>\n",
       "    </tr>\n",
       "    <tr>\n",
       "      <th>940789</th>\n",
       "      <td>Olin Reports Q1 EPS $(0.23) vs. Est. $0.22, Re...</td>\n",
       "      <td>2016-05-02 17:40:00</td>\n",
       "      <td>OLN</td>\n",
       "      <td>0.015110</td>\n",
       "    </tr>\n",
       "  </tbody>\n",
       "</table>\n",
       "<p>100 rows × 4 columns</p>\n",
       "</div>"
      ],
      "text/plain": [
       "                                                     title  \\\n",
       "219534   Benzinga’s Top Upgrades (SBNY, CCL, MPW, MA, F...   \n",
       "912659        Top Performing Industries For August 9, 2016   \n",
       "165581   Bridgeline DIgital Reports Q3 Loss $0.26 Vs Es...   \n",
       "1355251              Earnings Scheduled For March 24, 2015   \n",
       "362331       Puts Purchased on Dick's Sporting Goods (DKS)   \n",
       "...                                                    ...   \n",
       "1236358  Standpoint Research Downgrades Tempur-pedic In...   \n",
       "1370405  Sector Update: Utilities Leading, Consumer Goo...   \n",
       "90206    Aramark Acquires On-Demand Food Delivery Servi...   \n",
       "1342675  Wheeler Real Estate Investment Trust Responds ...   \n",
       "940789   Olin Reports Q1 EPS $(0.23) vs. Est. $0.22, Re...   \n",
       "\n",
       "                       date ticker   returns  \n",
       "219534  2010-05-21 08:27:00    CCL  0.013952  \n",
       "912659  2016-08-09 10:54:00    NTL -0.010309  \n",
       "165581  2015-08-14 08:01:00   BLIN -0.048276  \n",
       "1355251 2015-03-24 04:04:00   WSCI  0.001757  \n",
       "362331  2011-01-06 12:40:00    DKS -0.045442  \n",
       "...                     ...    ...       ...  \n",
       "1236358 2013-10-01 11:17:00    TPX  0.023658  \n",
       "1370405 2011-08-24 10:36:00    XLF  0.026678  \n",
       "90206   2019-08-06 06:44:00   ARMK  0.047018  \n",
       "1342675 2018-03-16 04:19:00   WHLR  0.064220  \n",
       "940789  2016-05-02 17:40:00    OLN  0.015110  \n",
       "\n",
       "[100 rows x 4 columns]"
      ]
     },
     "execution_count": 12,
     "metadata": {},
     "output_type": "execute_result"
    }
   ],
   "source": [
    "small_test_set"
   ]
  },
  {
   "cell_type": "code",
   "execution_count": 14,
   "metadata": {},
   "outputs": [],
   "source": [
    "from transformers import AutoTokenizer\n",
    "tokenizer = AutoTokenizer.from_pretrained(\"ProsusAI/finbert\")\n",
    "def tokenize_headline(headline):\n",
    "    return tokenizer.encode_plus(headline, max_length=512, truncation=True, padding='max_length', return_tensors='pt')\n",
    "\n",
    "small_test_set['tokenized_title'] = small_test_set['title'].apply(tokenize_headline)"
   ]
  },
  {
   "cell_type": "code",
   "execution_count": 19,
   "metadata": {},
   "outputs": [
    {
     "name": "stdout",
     "output_type": "stream",
     "text": [
      "Benzinga’s Top Upgrades (SBNY, CCL, MPW, MA, FRED)\n"
     ]
    },
    {
     "data": {
      "text/plain": [
       "{'input_ids': tensor([[  101, 17770, 28234,  1521,  1055,  2327, 18739,  1006, 24829,  4890,\n",
       "          1010, 10507,  2140,  1010,  6131,  2860,  1010,  5003,  1010,  5965,\n",
       "          1007,   102,     0,     0,     0,     0,     0,     0,     0,     0,\n",
       "             0,     0,     0,     0,     0,     0,     0,     0,     0,     0,\n",
       "             0,     0,     0,     0,     0,     0,     0,     0,     0,     0,\n",
       "             0,     0,     0,     0,     0,     0,     0,     0,     0,     0,\n",
       "             0,     0,     0,     0,     0,     0,     0,     0,     0,     0,\n",
       "             0,     0,     0,     0,     0,     0,     0,     0,     0,     0,\n",
       "             0,     0,     0,     0,     0,     0,     0,     0,     0,     0,\n",
       "             0,     0,     0,     0,     0,     0,     0,     0,     0,     0,\n",
       "             0,     0,     0,     0,     0,     0,     0,     0,     0,     0,\n",
       "             0,     0,     0,     0,     0,     0,     0,     0,     0,     0,\n",
       "             0,     0,     0,     0,     0,     0,     0,     0,     0,     0,\n",
       "             0,     0,     0,     0,     0,     0,     0,     0,     0,     0,\n",
       "             0,     0,     0,     0,     0,     0,     0,     0,     0,     0,\n",
       "             0,     0,     0,     0,     0,     0,     0,     0,     0,     0,\n",
       "             0,     0,     0,     0,     0,     0,     0,     0,     0,     0,\n",
       "             0,     0,     0,     0,     0,     0,     0,     0,     0,     0,\n",
       "             0,     0,     0,     0,     0,     0,     0,     0,     0,     0,\n",
       "             0,     0,     0,     0,     0,     0,     0,     0,     0,     0,\n",
       "             0,     0,     0,     0,     0,     0,     0,     0,     0,     0,\n",
       "             0,     0,     0,     0,     0,     0,     0,     0,     0,     0,\n",
       "             0,     0,     0,     0,     0,     0,     0,     0,     0,     0,\n",
       "             0,     0,     0,     0,     0,     0,     0,     0,     0,     0,\n",
       "             0,     0,     0,     0,     0,     0,     0,     0,     0,     0,\n",
       "             0,     0,     0,     0,     0,     0,     0,     0,     0,     0,\n",
       "             0,     0,     0,     0,     0,     0,     0,     0,     0,     0,\n",
       "             0,     0,     0,     0,     0,     0,     0,     0,     0,     0,\n",
       "             0,     0,     0,     0,     0,     0,     0,     0,     0,     0,\n",
       "             0,     0,     0,     0,     0,     0,     0,     0,     0,     0,\n",
       "             0,     0,     0,     0,     0,     0,     0,     0,     0,     0,\n",
       "             0,     0,     0,     0,     0,     0,     0,     0,     0,     0,\n",
       "             0,     0,     0,     0,     0,     0,     0,     0,     0,     0,\n",
       "             0,     0,     0,     0,     0,     0,     0,     0,     0,     0,\n",
       "             0,     0,     0,     0,     0,     0,     0,     0,     0,     0,\n",
       "             0,     0,     0,     0,     0,     0,     0,     0,     0,     0,\n",
       "             0,     0,     0,     0,     0,     0,     0,     0,     0,     0,\n",
       "             0,     0,     0,     0,     0,     0,     0,     0,     0,     0,\n",
       "             0,     0,     0,     0,     0,     0,     0,     0,     0,     0,\n",
       "             0,     0,     0,     0,     0,     0,     0,     0,     0,     0,\n",
       "             0,     0,     0,     0,     0,     0,     0,     0,     0,     0,\n",
       "             0,     0,     0,     0,     0,     0,     0,     0,     0,     0,\n",
       "             0,     0,     0,     0,     0,     0,     0,     0,     0,     0,\n",
       "             0,     0,     0,     0,     0,     0,     0,     0,     0,     0,\n",
       "             0,     0,     0,     0,     0,     0,     0,     0,     0,     0,\n",
       "             0,     0,     0,     0,     0,     0,     0,     0,     0,     0,\n",
       "             0,     0,     0,     0,     0,     0,     0,     0,     0,     0,\n",
       "             0,     0,     0,     0,     0,     0,     0,     0,     0,     0,\n",
       "             0,     0,     0,     0,     0,     0,     0,     0,     0,     0,\n",
       "             0,     0,     0,     0,     0,     0,     0,     0,     0,     0,\n",
       "             0,     0,     0,     0,     0,     0,     0,     0,     0,     0,\n",
       "             0,     0]]), 'token_type_ids': tensor([[0, 0, 0, 0, 0, 0, 0, 0, 0, 0, 0, 0, 0, 0, 0, 0, 0, 0, 0, 0, 0, 0, 0, 0,\n",
       "         0, 0, 0, 0, 0, 0, 0, 0, 0, 0, 0, 0, 0, 0, 0, 0, 0, 0, 0, 0, 0, 0, 0, 0,\n",
       "         0, 0, 0, 0, 0, 0, 0, 0, 0, 0, 0, 0, 0, 0, 0, 0, 0, 0, 0, 0, 0, 0, 0, 0,\n",
       "         0, 0, 0, 0, 0, 0, 0, 0, 0, 0, 0, 0, 0, 0, 0, 0, 0, 0, 0, 0, 0, 0, 0, 0,\n",
       "         0, 0, 0, 0, 0, 0, 0, 0, 0, 0, 0, 0, 0, 0, 0, 0, 0, 0, 0, 0, 0, 0, 0, 0,\n",
       "         0, 0, 0, 0, 0, 0, 0, 0, 0, 0, 0, 0, 0, 0, 0, 0, 0, 0, 0, 0, 0, 0, 0, 0,\n",
       "         0, 0, 0, 0, 0, 0, 0, 0, 0, 0, 0, 0, 0, 0, 0, 0, 0, 0, 0, 0, 0, 0, 0, 0,\n",
       "         0, 0, 0, 0, 0, 0, 0, 0, 0, 0, 0, 0, 0, 0, 0, 0, 0, 0, 0, 0, 0, 0, 0, 0,\n",
       "         0, 0, 0, 0, 0, 0, 0, 0, 0, 0, 0, 0, 0, 0, 0, 0, 0, 0, 0, 0, 0, 0, 0, 0,\n",
       "         0, 0, 0, 0, 0, 0, 0, 0, 0, 0, 0, 0, 0, 0, 0, 0, 0, 0, 0, 0, 0, 0, 0, 0,\n",
       "         0, 0, 0, 0, 0, 0, 0, 0, 0, 0, 0, 0, 0, 0, 0, 0, 0, 0, 0, 0, 0, 0, 0, 0,\n",
       "         0, 0, 0, 0, 0, 0, 0, 0, 0, 0, 0, 0, 0, 0, 0, 0, 0, 0, 0, 0, 0, 0, 0, 0,\n",
       "         0, 0, 0, 0, 0, 0, 0, 0, 0, 0, 0, 0, 0, 0, 0, 0, 0, 0, 0, 0, 0, 0, 0, 0,\n",
       "         0, 0, 0, 0, 0, 0, 0, 0, 0, 0, 0, 0, 0, 0, 0, 0, 0, 0, 0, 0, 0, 0, 0, 0,\n",
       "         0, 0, 0, 0, 0, 0, 0, 0, 0, 0, 0, 0, 0, 0, 0, 0, 0, 0, 0, 0, 0, 0, 0, 0,\n",
       "         0, 0, 0, 0, 0, 0, 0, 0, 0, 0, 0, 0, 0, 0, 0, 0, 0, 0, 0, 0, 0, 0, 0, 0,\n",
       "         0, 0, 0, 0, 0, 0, 0, 0, 0, 0, 0, 0, 0, 0, 0, 0, 0, 0, 0, 0, 0, 0, 0, 0,\n",
       "         0, 0, 0, 0, 0, 0, 0, 0, 0, 0, 0, 0, 0, 0, 0, 0, 0, 0, 0, 0, 0, 0, 0, 0,\n",
       "         0, 0, 0, 0, 0, 0, 0, 0, 0, 0, 0, 0, 0, 0, 0, 0, 0, 0, 0, 0, 0, 0, 0, 0,\n",
       "         0, 0, 0, 0, 0, 0, 0, 0, 0, 0, 0, 0, 0, 0, 0, 0, 0, 0, 0, 0, 0, 0, 0, 0,\n",
       "         0, 0, 0, 0, 0, 0, 0, 0, 0, 0, 0, 0, 0, 0, 0, 0, 0, 0, 0, 0, 0, 0, 0, 0,\n",
       "         0, 0, 0, 0, 0, 0, 0, 0]]), 'attention_mask': tensor([[1, 1, 1, 1, 1, 1, 1, 1, 1, 1, 1, 1, 1, 1, 1, 1, 1, 1, 1, 1, 1, 1, 0, 0,\n",
       "         0, 0, 0, 0, 0, 0, 0, 0, 0, 0, 0, 0, 0, 0, 0, 0, 0, 0, 0, 0, 0, 0, 0, 0,\n",
       "         0, 0, 0, 0, 0, 0, 0, 0, 0, 0, 0, 0, 0, 0, 0, 0, 0, 0, 0, 0, 0, 0, 0, 0,\n",
       "         0, 0, 0, 0, 0, 0, 0, 0, 0, 0, 0, 0, 0, 0, 0, 0, 0, 0, 0, 0, 0, 0, 0, 0,\n",
       "         0, 0, 0, 0, 0, 0, 0, 0, 0, 0, 0, 0, 0, 0, 0, 0, 0, 0, 0, 0, 0, 0, 0, 0,\n",
       "         0, 0, 0, 0, 0, 0, 0, 0, 0, 0, 0, 0, 0, 0, 0, 0, 0, 0, 0, 0, 0, 0, 0, 0,\n",
       "         0, 0, 0, 0, 0, 0, 0, 0, 0, 0, 0, 0, 0, 0, 0, 0, 0, 0, 0, 0, 0, 0, 0, 0,\n",
       "         0, 0, 0, 0, 0, 0, 0, 0, 0, 0, 0, 0, 0, 0, 0, 0, 0, 0, 0, 0, 0, 0, 0, 0,\n",
       "         0, 0, 0, 0, 0, 0, 0, 0, 0, 0, 0, 0, 0, 0, 0, 0, 0, 0, 0, 0, 0, 0, 0, 0,\n",
       "         0, 0, 0, 0, 0, 0, 0, 0, 0, 0, 0, 0, 0, 0, 0, 0, 0, 0, 0, 0, 0, 0, 0, 0,\n",
       "         0, 0, 0, 0, 0, 0, 0, 0, 0, 0, 0, 0, 0, 0, 0, 0, 0, 0, 0, 0, 0, 0, 0, 0,\n",
       "         0, 0, 0, 0, 0, 0, 0, 0, 0, 0, 0, 0, 0, 0, 0, 0, 0, 0, 0, 0, 0, 0, 0, 0,\n",
       "         0, 0, 0, 0, 0, 0, 0, 0, 0, 0, 0, 0, 0, 0, 0, 0, 0, 0, 0, 0, 0, 0, 0, 0,\n",
       "         0, 0, 0, 0, 0, 0, 0, 0, 0, 0, 0, 0, 0, 0, 0, 0, 0, 0, 0, 0, 0, 0, 0, 0,\n",
       "         0, 0, 0, 0, 0, 0, 0, 0, 0, 0, 0, 0, 0, 0, 0, 0, 0, 0, 0, 0, 0, 0, 0, 0,\n",
       "         0, 0, 0, 0, 0, 0, 0, 0, 0, 0, 0, 0, 0, 0, 0, 0, 0, 0, 0, 0, 0, 0, 0, 0,\n",
       "         0, 0, 0, 0, 0, 0, 0, 0, 0, 0, 0, 0, 0, 0, 0, 0, 0, 0, 0, 0, 0, 0, 0, 0,\n",
       "         0, 0, 0, 0, 0, 0, 0, 0, 0, 0, 0, 0, 0, 0, 0, 0, 0, 0, 0, 0, 0, 0, 0, 0,\n",
       "         0, 0, 0, 0, 0, 0, 0, 0, 0, 0, 0, 0, 0, 0, 0, 0, 0, 0, 0, 0, 0, 0, 0, 0,\n",
       "         0, 0, 0, 0, 0, 0, 0, 0, 0, 0, 0, 0, 0, 0, 0, 0, 0, 0, 0, 0, 0, 0, 0, 0,\n",
       "         0, 0, 0, 0, 0, 0, 0, 0, 0, 0, 0, 0, 0, 0, 0, 0, 0, 0, 0, 0, 0, 0, 0, 0,\n",
       "         0, 0, 0, 0, 0, 0, 0, 0]])}"
      ]
     },
     "execution_count": 19,
     "metadata": {},
     "output_type": "execute_result"
    }
   ],
   "source": [
    "print(small_test_set['title'].iloc[0])\n",
    "small_test_set[\"tokenized_title\"].iloc[0]"
   ]
  },
  {
   "cell_type": "markdown",
   "metadata": {},
   "source": [
    "Merge Two Datasets into 1 Dataset"
   ]
  },
  {
   "cell_type": "code",
   "execution_count": 8,
   "metadata": {},
   "outputs": [
    {
     "data": {
      "text/plain": [
       "67321"
      ]
     },
     "execution_count": 8,
     "metadata": {},
     "output_type": "execute_result"
    }
   ],
   "source": [
    "# load both datasets\n",
    "dataset_1 = pd.read_pickle('50k_processed_data_1.pkl')\n",
    "dataset_2 = pd.read_pickle('50k_processed_data_2.pkl')\n",
    "\n",
    "# merge the two datasets (disclude repeated rows)\n",
    "dataset = pd.concat([dataset_1, dataset_2], axis=0)\n",
    "\n",
    "# eliminate rows with the same index\n",
    "dataset = dataset[~dataset.index.duplicated(keep='first')]\n",
    "\n",
    "len(dataset)"
   ]
  },
  {
   "cell_type": "markdown",
   "metadata": {},
   "source": [
    "Split Dataset into Training, Validation, and Testing"
   ]
  },
  {
   "cell_type": "code",
   "execution_count": 9,
   "metadata": {},
   "outputs": [],
   "source": [
    "from sklearn.model_selection import train_test_split\n",
    "\n",
    "def split(df):\n",
    "    x_train, x_test_and_val, y_train, y_test_and_val  = train_test_split(df['title'], df['returns'], random_state=42, test_size=0.2) # train set is 80%,\n",
    "    x_test, x_val, y_test, y_val = train_test_split(x_test_and_val, y_test_and_val, test_size=0.5, random_state=42) # test and val are 50% of the remaining 20% = 10%. \n",
    "    return x_train, y_train, x_val, y_val, x_test, y_test\n",
    "\n",
    "x_train, y_train, x_val, y_val, x_test, y_test = split(dataset) # split the data\n"
   ]
  },
  {
   "cell_type": "markdown",
   "metadata": {},
   "source": [
    "Return Distribution Analysis"
   ]
  },
  {
   "cell_type": "code",
   "execution_count": 10,
   "metadata": {},
   "outputs": [
    {
     "data": {
      "image/png": "[encoded data removed]",
      "text/plain": [
       "<Figure size 1080x360 with 3 Axes>"
      ]
     },
     "metadata": {
      "needs_background": "light"
     },
     "output_type": "display_data"
    }
   ],
   "source": [
    "# Analyze the articles dataset distribution\n",
    "import matplotlib.pyplot as plt\n",
    "import numpy as np\n",
    "\n",
    "def plot_returns(ax, datasetType, returns, bins=None):\n",
    "    # If bins isn't specified, set it to 1/10th of the number of returns\n",
    "\n",
    "    ax.hist(returns, bins=bins, alpha=0.7, color='b', edgecolor='black')\n",
    "    ax.set_xlabel(f'{datasetType} Returns')\n",
    "    ax.set_ylabel('Frequency')\n",
    "    ax.set_title(f'Distribution of {datasetType} Returns')\n",
    "    ax.set_xlim(-0.4, 0.4)\n",
    "\n",
    "    # Calculate mean and standard deviation\n",
    "    mean_return = np.mean(returns)\n",
    "    std_deviation = np.std(returns)\n",
    "\n",
    "    # Add mean and standard deviation to the plot\n",
    "    ax.text(0.05, 0.9, f'Mean: {mean_return:.4f}', transform=ax.transAxes)\n",
    "    ax.text(0.05, 0.85, f'Standard Deviation: {std_deviation:.4f}', transform=ax.transAxes)\n",
    "\n",
    "def display_return_plots(y_train, y_val, y_test):\n",
    "    # Create subplots\n",
    "    _, axs = plt.subplots(1, 3, figsize=(15, 5))\n",
    "\n",
    "    # Plot train, val, and test returns\n",
    "    plot_returns(axs[0], 'Train', y_train, bins=2000)\n",
    "    plot_returns(axs[1], 'Validation', y_val, bins=3000)\n",
    "    plot_returns(axs[2], 'Test', y_test, bins=3000)\n",
    "\n",
    "    plt.tight_layout()\n",
    "    plt.show()\n",
    "\n",
    "display_return_plots(y_train, y_val, y_test)"
   ]
  },
  {
   "cell_type": "markdown",
   "metadata": {},
   "source": [
    "Dataset Analysis"
   ]
  },
  {
   "cell_type": "code",
   "execution_count": 11,
   "metadata": {},
   "outputs": [
    {
     "ename": "ModuleNotFoundError",
     "evalue": "No module named 'dataframe_image'",
     "output_type": "error",
     "traceback": [
      "\u001b[1;31m---------------------------------------------------------------------------\u001b[0m",
      "\u001b[1;31mModuleNotFoundError\u001b[0m                       Traceback (most recent call last)",
      "\u001b[1;32mc:\\Users\\yiann\\Documents\\GitHub\\ArticleAlpha\\preprocess_data copy.ipynb Cell 20\u001b[0m line \u001b[0;36m<cell line: 30>\u001b[1;34m()\u001b[0m\n\u001b[0;32m     <a href='vscode-notebook-cell:/c%3A/Users/yiann/Documents/GitHub/ArticleAlpha/preprocess_data%20copy.ipynb#X24sZmlsZQ%3D%3D?line=26'>27</a>\u001b[0m analysis_df \u001b[39m=\u001b[39m df_for_analysis(analyze(x_train, y_train), analyze(x_test,y_test), analyze(x_val, y_val))\n\u001b[0;32m     <a href='vscode-notebook-cell:/c%3A/Users/yiann/Documents/GitHub/ArticleAlpha/preprocess_data%20copy.ipynb#X24sZmlsZQ%3D%3D?line=28'>29</a>\u001b[0m \u001b[39m# export dataset analysis dataframe as png\u001b[39;00m\n\u001b[1;32m---> <a href='vscode-notebook-cell:/c%3A/Users/yiann/Documents/GitHub/ArticleAlpha/preprocess_data%20copy.ipynb#X24sZmlsZQ%3D%3D?line=29'>30</a>\u001b[0m \u001b[39mimport\u001b[39;00m \u001b[39mdataframe_image\u001b[39;00m \u001b[39mas\u001b[39;00m \u001b[39mdfi\u001b[39;00m\n\u001b[0;32m     <a href='vscode-notebook-cell:/c%3A/Users/yiann/Documents/GitHub/ArticleAlpha/preprocess_data%20copy.ipynb#X24sZmlsZQ%3D%3D?line=30'>31</a>\u001b[0m dfi\u001b[39m.\u001b[39mexport(analysis_df, \u001b[39m'\u001b[39m\u001b[39mData Analysis/Dataset Analysis.png\u001b[39m\u001b[39m'\u001b[39m)\n\u001b[0;32m     <a href='vscode-notebook-cell:/c%3A/Users/yiann/Documents/GitHub/ArticleAlpha/preprocess_data%20copy.ipynb#X24sZmlsZQ%3D%3D?line=32'>33</a>\u001b[0m analysis_df\n",
      "\u001b[1;31mModuleNotFoundError\u001b[0m: No module named 'dataframe_image'"
     ]
    }
   ],
   "source": [
    "def analyze(x, y):\n",
    "    num_samples = len(x)\n",
    "    \n",
    "    num_pos = len(y[y > 0])\n",
    "    num_neg = len(y[y < 0])\n",
    "    num_zero = len(y[y == 0])\n",
    "\n",
    "    list_lengths = x.apply(len)\n",
    "\n",
    "    # Find the size of the smallest/largest list\n",
    "    num_min_tokens = min(list_lengths)\n",
    "    num_max_tokens = max(list_lengths)\n",
    "    num_mean_tokens = list_lengths.mean()\n",
    "    \n",
    "    return {\"Number of Samples\":num_samples, \n",
    "            \"Number of Samples with Positive Returns\": num_pos,\n",
    "            \"Number of Samples with No Returns\": num_zero,\n",
    "            \"Number of Samples with Negative Returns\": num_neg,\n",
    "            \"Minimum Number of Tokens\": num_min_tokens, \n",
    "            \"Maximum Number of Tokens\":num_max_tokens, \n",
    "            \"Mean Number of Tokens\":num_mean_tokens}\n",
    "\n",
    "def df_for_analysis(train_analysis, test_analysis, validation_analysis):\n",
    "    df = pd.DataFrame([train_analysis, test_analysis, validation_analysis], index=['Train', 'Test', 'Validation'])\n",
    "    return df\n",
    "\n",
    "analysis_df = df_for_analysis(analyze(x_train, y_train), analyze(x_test,y_test), analyze(x_val, y_val))\n",
    "\n",
    "# export dataset analysis dataframe as png\n",
    "import dataframe_image as dfi\n",
    "dfi.export(analysis_df, 'Data Analysis/Dataset Analysis.png')\n",
    "\n",
    "analysis_df\n"
   ]
  }
 ],
 "metadata": {
  "kernelspec": {
   "display_name": "base",
   "language": "python",
   "name": "python3"
  },
  "language_info": {
   "codemirror_mode": {
    "name": "ipython",
    "version": 3
   },
   "file_extension": ".py",
   "mimetype": "text/x-python",
   "name": "python",
   "nbconvert_exporter": "python",
   "pygments_lexer": "ipython3",
   "version": "3.10.2"
  }
 },
 "nbformat": 4,
 "nbformat_minor": 2
}
