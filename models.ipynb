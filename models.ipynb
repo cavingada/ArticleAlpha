{
 "cells": [
  {
   "cell_type": "markdown",
   "metadata": {},
   "source": [
    "### Imports"
   ]
  },
  {
   "cell_type": "code",
   "execution_count": 1,
   "metadata": {},
   "outputs": [],
   "source": [
    "import matplotlib.pyplot as plt\n",
    "import pandas as pd\n",
    "from sklearn.model_selection import train_test_split\n",
    "from transformers import AutoTokenizer, AutoModelForSequenceClassification\n",
    "from transformers import get_scheduler\n",
    "from tqdm import tqdm"
   ]
  },
  {
   "cell_type": "markdown",
   "metadata": {},
   "source": [
    "### Load Dataset"
   ]
  },
  {
   "cell_type": "code",
   "execution_count": 2,
   "metadata": {},
   "outputs": [
    {
     "data": {
      "text/html": [
       "<div>\n",
       "<style scoped>\n",
       "    .dataframe tbody tr th:only-of-type {\n",
       "        vertical-align: middle;\n",
       "    }\n",
       "\n",
       "    .dataframe tbody tr th {\n",
       "        vertical-align: top;\n",
       "    }\n",
       "\n",
       "    .dataframe thead th {\n",
       "        text-align: right;\n",
       "    }\n",
       "</style>\n",
       "<table border=\"1\" class=\"dataframe\">\n",
       "  <thead>\n",
       "    <tr style=\"text-align: right;\">\n",
       "      <th></th>\n",
       "      <th>title</th>\n",
       "      <th>date</th>\n",
       "      <th>ticker</th>\n",
       "      <th>returns</th>\n",
       "      <th>sentiment</th>\n",
       "    </tr>\n",
       "  </thead>\n",
       "  <tbody>\n",
       "    <tr>\n",
       "      <th>821831</th>\n",
       "      <td>Bank of America Reinstates Coverage on 3M at B...</td>\n",
       "      <td>2012-09-13 16:09:00</td>\n",
       "      <td>MMM</td>\n",
       "      <td>0.020856</td>\n",
       "      <td>2</td>\n",
       "    </tr>\n",
       "    <tr>\n",
       "      <th>1384459</th>\n",
       "      <td>Does Yelp Need Help?</td>\n",
       "      <td>2015-04-30 14:04:00</td>\n",
       "      <td>YELP</td>\n",
       "      <td>-0.231864</td>\n",
       "      <td>0</td>\n",
       "    </tr>\n",
       "    <tr>\n",
       "      <th>684717</th>\n",
       "      <td>Morning Earnings Recap: The Biggest Reports Fr...</td>\n",
       "      <td>2019-01-25 06:40:00</td>\n",
       "      <td>JBLU</td>\n",
       "      <td>-0.022627</td>\n",
       "      <td>2</td>\n",
       "    </tr>\n",
       "    <tr>\n",
       "      <th>16283</th>\n",
       "      <td>20 Healthcare Stocks Moving In Monday's Pre-Ma...</td>\n",
       "      <td>2020-03-16 08:32:00</td>\n",
       "      <td>ACST</td>\n",
       "      <td>-0.096774</td>\n",
       "      <td>2</td>\n",
       "    </tr>\n",
       "    <tr>\n",
       "      <th>1226930</th>\n",
       "      <td>Start Your Engines: Global X Introduces An Aut...</td>\n",
       "      <td>2011-05-19 13:12:00</td>\n",
       "      <td>TM</td>\n",
       "      <td>-0.008478</td>\n",
       "      <td>2</td>\n",
       "    </tr>\n",
       "    <tr>\n",
       "      <th>...</th>\n",
       "      <td>...</td>\n",
       "      <td>...</td>\n",
       "      <td>...</td>\n",
       "      <td>...</td>\n",
       "      <td>...</td>\n",
       "    </tr>\n",
       "    <tr>\n",
       "      <th>365170</th>\n",
       "      <td>Bank of America Downgrades Dollar Tree, Inc. t...</td>\n",
       "      <td>2014-07-28 14:14:00</td>\n",
       "      <td>DLTR</td>\n",
       "      <td>0.011988</td>\n",
       "      <td>2</td>\n",
       "    </tr>\n",
       "    <tr>\n",
       "      <th>877871</th>\n",
       "      <td>Option Alert: NCR Mar16 26.0 Puts Sweep: 1297 ...</td>\n",
       "      <td>2016-03-04 12:04:00</td>\n",
       "      <td>NCR</td>\n",
       "      <td>-0.023348</td>\n",
       "      <td>2</td>\n",
       "    </tr>\n",
       "    <tr>\n",
       "      <th>1005885</th>\n",
       "      <td>Protalix BioTherapeutics Trading Significantly...</td>\n",
       "      <td>2011-02-25 09:59:00</td>\n",
       "      <td>PLX</td>\n",
       "      <td>-0.184829</td>\n",
       "      <td>0</td>\n",
       "    </tr>\n",
       "    <tr>\n",
       "      <th>1116080</th>\n",
       "      <td>Seattle Genetics and Bristol-Myers Squibb Anno...</td>\n",
       "      <td>2015-12-23 08:01:00</td>\n",
       "      <td>SGEN</td>\n",
       "      <td>0.033404</td>\n",
       "      <td>2</td>\n",
       "    </tr>\n",
       "    <tr>\n",
       "      <th>1136494</th>\n",
       "      <td>UPDATE: Jefferies Downgrades U.S. Silica Holdi...</td>\n",
       "      <td>2013-01-10 08:10:00</td>\n",
       "      <td>SLCA</td>\n",
       "      <td>-0.057262</td>\n",
       "      <td>2</td>\n",
       "    </tr>\n",
       "  </tbody>\n",
       "</table>\n",
       "<p>68935 rows × 5 columns</p>\n",
       "</div>"
      ],
      "text/plain": [
       "                                                     title  \\\n",
       "821831   Bank of America Reinstates Coverage on 3M at B...   \n",
       "1384459                               Does Yelp Need Help?   \n",
       "684717   Morning Earnings Recap: The Biggest Reports Fr...   \n",
       "16283    20 Healthcare Stocks Moving In Monday's Pre-Ma...   \n",
       "1226930  Start Your Engines: Global X Introduces An Aut...   \n",
       "...                                                    ...   \n",
       "365170   Bank of America Downgrades Dollar Tree, Inc. t...   \n",
       "877871   Option Alert: NCR Mar16 26.0 Puts Sweep: 1297 ...   \n",
       "1005885  Protalix BioTherapeutics Trading Significantly...   \n",
       "1116080  Seattle Genetics and Bristol-Myers Squibb Anno...   \n",
       "1136494  UPDATE: Jefferies Downgrades U.S. Silica Holdi...   \n",
       "\n",
       "                       date ticker   returns  sentiment  \n",
       "821831  2012-09-13 16:09:00    MMM  0.020856          2  \n",
       "1384459 2015-04-30 14:04:00   YELP -0.231864          0  \n",
       "684717  2019-01-25 06:40:00   JBLU -0.022627          2  \n",
       "16283   2020-03-16 08:32:00   ACST -0.096774          2  \n",
       "1226930 2011-05-19 13:12:00     TM -0.008478          2  \n",
       "...                     ...    ...       ...        ...  \n",
       "365170  2014-07-28 14:14:00   DLTR  0.011988          2  \n",
       "877871  2016-03-04 12:04:00    NCR -0.023348          2  \n",
       "1005885 2011-02-25 09:59:00    PLX -0.184829          0  \n",
       "1116080 2015-12-23 08:01:00   SGEN  0.033404          2  \n",
       "1136494 2013-01-10 08:10:00   SLCA -0.057262          2  \n",
       "\n",
       "[68935 rows x 5 columns]"
      ]
     },
     "execution_count": 2,
     "metadata": {},
     "output_type": "execute_result"
    }
   ],
   "source": [
    "dataset = pd.read_pickle('Data/test_set.pkl')\n",
    "# drop NaN\n",
    "dataset = dataset.dropna()\n",
    "# add a column that defines sentiment. sentiment is 0 if returns is < 0.01, 1 if returns is > 0.01 and 2 if returns is 0\n",
    "dataset['sentiment'] = dataset['returns'].apply(lambda x: 0 if x < -0.1 else 1 if x > 0.1 else 2)\n",
    "dataset"
   ]
  },
  {
   "cell_type": "markdown",
   "metadata": {},
   "source": [
    "### Split Dataset into Train, Validation, and Test\n",
    "- Train (80%)\n",
    "- Test (10%)\n",
    "- Validation (10%)"
   ]
  },
  {
   "cell_type": "code",
   "execution_count": 3,
   "metadata": {},
   "outputs": [],
   "source": [
    "def split(df):\n",
    "    x_train, x_test_and_val, y_train, y_test_and_val  = train_test_split(df['title'], df['returns'], random_state=42, test_size=0.2) # train set is 80%,\n",
    "    x_test, x_val, y_test, y_val = train_test_split(x_test_and_val, y_test_and_val, test_size=0.5, random_state=42) # test and val are 50% of the remaining 20% = 10%. \n",
    "    return x_train, y_train, x_val, y_val, x_test, y_test\n",
    "\n",
    "x_train, y_train, x_val, y_val, x_test, y_test = split(dataset)"
   ]
  },
  {
   "cell_type": "markdown",
   "metadata": {},
   "source": [
    "### Dataset Analysis"
   ]
  },
  {
   "cell_type": "code",
   "execution_count": 4,
   "metadata": {},
   "outputs": [
    {
     "name": "stderr",
     "output_type": "stream",
     "text": [
      "Some weights of BertForSequenceClassification were not initialized from the model checkpoint at bert-base-uncased and are newly initialized: ['classifier.bias', 'classifier.weight']\n",
      "You should probably TRAIN this model on a down-stream task to be able to use it for predictions and inference.\n"
     ]
    }
   ],
   "source": [
    "import torch\n",
    "device = torch.device(\"cuda\" if torch.cuda.is_available() else \"cpu\")\n",
    "def get_model_and_tokenizer(model_name, num_labels=3):\n",
    "  tokenizer = AutoTokenizer.from_pretrained(model_name,num_labels=num_labels)\n",
    "  model = AutoModelForSequenceClassification.from_pretrained(model_name)\n",
    "  model.to(device)\n",
    "  return tokenizer, model\n",
    "\n",
    "bert_tokenizer, bert_model = get_model_and_tokenizer('bert-base-uncased')\n",
    "finbert_tokenizer, finbert_model = get_model_and_tokenizer('ProsusAI/finbert')"
   ]
  },
  {
   "cell_type": "code",
   "execution_count": null,
   "metadata": {},
   "outputs": [],
   "source": [
    "def analyze(titles, returns):\n",
    "    \n",
    "    tokenized_titles = bert_tokenizer(titles.tolist())['input_ids']\n",
    "\n",
    "    num_samples = len(tokenized_titles)\n",
    "    \n",
    "    num_pos = len(returns[returns > 0])\n",
    "    num_neg = len(returns[returns < 0])\n",
    "    num_zero = len(returns[returns == 0])\n",
    "\n",
    "    list_lengths = titles.apply(len)\n",
    "\n",
    "    # Find the size of the smallest/largest list\n",
    "    num_min_tokens = min(list_lengths)\n",
    "    num_max_tokens = max(list_lengths)\n",
    "    num_mean_tokens = list_lengths.mean()\n",
    "    \n",
    "    return {\"Number of Samples\":num_samples, \n",
    "            \"Number of Samples with Positive Returns\": num_pos,\n",
    "            \"Number of Samples with No Returns\": num_zero,\n",
    "            \"Number of Samples with Negative Returns\": num_neg,\n",
    "            \"Minimum Number of Tokens\": num_min_tokens, \n",
    "            \"Maximum Number of Tokens\":num_max_tokens, \n",
    "            \"Mean Number of Tokens\":num_mean_tokens}\n",
    "\n",
    "def df_for_analysis(train_analysis, test_analysis, validation_analysis):\n",
    "    df = pd.DataFrame([train_analysis, test_analysis, validation_analysis], index=['Train', 'Test', 'Validation'])\n",
    "    return df\n",
    "\n",
    "analysis_df = df_for_analysis(analyze(x_train, y_train), analyze(x_test,y_test), analyze(x_val, y_val))\n",
    "\n",
    "analysis_df"
   ]
  },
  {
   "cell_type": "markdown",
   "metadata": {},
   "source": [
    "### Testing"
   ]
  },
  {
   "cell_type": "markdown",
   "metadata": {},
   "source": [
    "### BERT Model Testing"
   ]
  },
  {
   "cell_type": "code",
   "execution_count": 5,
   "metadata": {},
   "outputs": [
    {
     "name": "stderr",
     "output_type": "stream",
     "text": [
      "100%|██████████| 68935/68935 [11:11<00:00, 102.66it/s]\n"
     ]
    },
    {
     "name": "stdout",
     "output_type": "stream",
     "text": [
      "0.5057663015884529 0.39125038783741856 0.4819078947368421 0.5128127393413326\n"
     ]
    }
   ],
   "source": [
    "import torch\n",
    "def predict_article(model, tokenizer, sample):\n",
    "    inputs = tokenizer(sample, return_tensors='pt').to(device)\n",
    "    output = model(**inputs)\n",
    "    return output.logits\n",
    "\n",
    "def convert_to_sentiment_int(output, modelType):\n",
    "    if modelType == 'BERT':\n",
    "        return int(torch.argmax(output, dim=-1))\n",
    "    elif modelType == 'FinBERT':\n",
    "        result = int(torch.argmax(output, dim=-1))\n",
    "        # if 0, return 1, if 1, return 0, if 2, return 2. why? finbert flips 0 and 1. 0 is positive, 1 is negative. we want the opposite. \n",
    "        # 2 would be neutral. \n",
    "        return 1 if result == 0 else 0 if result == 1 else 2\n",
    "\n",
    "# now given a dataframe of samples, we can evaluate the model on each sample and return the results\n",
    "def predict_articles(model, tokenizer, df, modelType):\n",
    "    true_labels = []\n",
    "    predictions = []\n",
    "    numCorrect = 0\n",
    "    numPos = 0\n",
    "    numNeg = 0\n",
    "    numNeut = 0\n",
    "    for index, row in tqdm(df.iterrows(), total=df.shape[0]):\n",
    "        \n",
    "        # 0 if negative, 1 if positive, 2 if neutral\n",
    "        ground_truth = row['sentiment']\n",
    "        true_labels.append(ground_truth)\n",
    "        model_output = predict_article(model, tokenizer, row['title'])\n",
    "        prediction = convert_to_sentiment_int(model_output, modelType)\n",
    "        predictions.append(prediction)\n",
    "        numCorrect+=1 if ground_truth == prediction else 0\n",
    "        if ground_truth == prediction:\n",
    "            if prediction == 0:\n",
    "                numNeg+=1\n",
    "            elif prediction == 1:\n",
    "                numPos+=1\n",
    "            else:\n",
    "                numNeut+=1\n",
    "        \n",
    "    accuracy = numCorrect / len(df)\n",
    "    acc_pos = numPos / len(df[df['sentiment'] == 1])\n",
    "    acc_neg = numNeg / len(df[df['sentiment'] == 0])\n",
    "    acc_neut = numNeut / len(df[df['sentiment'] == 2])\n",
    "    \n",
    "    \n",
    "    return accuracy, acc_pos, acc_neg, acc_neut, true_labels, predictions\n",
    "\n",
    "# bert_accuracy = predict_articles(bert_model, bert_tokenizer, dataset, 'BERT') # this only produces 2 classes. we need 3.\n",
    "finbert_accuracy, fin_pos, fin_neg, fin_neut, true_labels, predictions = predict_articles(finbert_model, finbert_tokenizer, dataset, 'FinBERT')\n",
    "\n",
    "print(finbert_accuracy, fin_pos, fin_neg, fin_neut)\n",
    "# print(bert_accuracy)"
   ]
  },
  {
   "cell_type": "code",
   "execution_count": null,
   "metadata": {},
   "outputs": [],
   "source": [
    "from sklearn.metrics import f1_score, accuracy_score, precision_score, recall_score\n",
    "\n",
    "finbert_f1_score = f1_score(true_labels, predictions, average=None)\n",
    "finbert_precision = precision_score(true_labels, predictions, average=None)\n",
    "finbert_recall = recall_score(true_labels, predictions, average=None)\n",
    "finbert_accuracy = accuracy_score(true_labels, predictions)\n",
    "#Convert values to percentages\n",
    "finbert_f1_score = [i * 100 for i in finbert_f1_score]\n",
    "finbert_precision = [i * 100 for i in finbert_precision]\n",
    "finbert_recall = [i * 100 for i in finbert_recall]\n",
    "pd.DataFrame([finbert_f1_score, finbert_precision, finbert_recall], columns=['Negative', 'Positive', 'Neutral'], index=['F1 Score', 'Precision', 'Recall'])"
   ]
  },
  {
   "cell_type": "code",
   "execution_count": null,
   "metadata": {},
   "outputs": [],
   "source": [
    "temp_data = dataset.sample(10)\n",
    "for index, row in temp_data.iterrows():\n",
    "    print(row['title'])\n",
    "    print(row['returns'])\n",
    "    print(row['sentiment'])\n",
    "    print(convert_to_sentiment_int(predict_article(finbert_model, finbert_tokenizer, row['title']), 'FinBERT'))\n",
    "    print('\\n')"
   ]
  },
  {
   "cell_type": "markdown",
   "metadata": {},
   "source": [
    "### Finbert Model Testing"
   ]
  }
 ],
 "metadata": {
  "kernelspec": {
   "display_name": "base",
   "language": "python",
   "name": "python3"
  },
  "language_info": {
   "codemirror_mode": {
    "name": "ipython",
    "version": 3
   },
   "file_extension": ".py",
   "mimetype": "text/x-python",
   "name": "python",
   "nbconvert_exporter": "python",
   "pygments_lexer": "ipython3",
   "version": "3.9.13"
  }
 },
 "nbformat": 4,
 "nbformat_minor": 2
}
