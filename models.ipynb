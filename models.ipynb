{
 "cells": [
  {
   "cell_type": "markdown",
   "metadata": {},
   "source": [
    "### Imports"
   ]
  },
  {
   "cell_type": "code",
   "execution_count": 10,
   "metadata": {},
   "outputs": [],
   "source": [
    "import pandas as pd\n",
    "import numpy as np\n",
    "import matplotlib.pyplot as plt\n",
    "from sklearn.model_selection import train_test_split\n",
    "from transformers import AutoTokenizer, AutoModelForSequenceClassification\n",
    "import torch\n",
    "from torch.optim import AdamW\n",
    "from transformers import get_scheduler"
   ]
  },
  {
   "cell_type": "markdown",
   "metadata": {},
   "source": [
    "### Load Dataset"
   ]
  },
  {
   "cell_type": "code",
   "execution_count": 15,
   "metadata": {},
   "outputs": [
    {
     "data": {
      "text/html": [
       "<div>\n",
       "<style scoped>\n",
       "    .dataframe tbody tr th:only-of-type {\n",
       "        vertical-align: middle;\n",
       "    }\n",
       "\n",
       "    .dataframe tbody tr th {\n",
       "        vertical-align: top;\n",
       "    }\n",
       "\n",
       "    .dataframe thead th {\n",
       "        text-align: right;\n",
       "    }\n",
       "</style>\n",
       "<table border=\"1\" class=\"dataframe\">\n",
       "  <thead>\n",
       "    <tr style=\"text-align: right;\">\n",
       "      <th></th>\n",
       "      <th>title</th>\n",
       "      <th>date</th>\n",
       "      <th>ticker</th>\n",
       "      <th>returns</th>\n",
       "    </tr>\n",
       "  </thead>\n",
       "  <tbody>\n",
       "    <tr>\n",
       "      <th>219534</th>\n",
       "      <td>Benzinga’s Top Upgrades (SBNY, CCL, MPW, MA, F...</td>\n",
       "      <td>2010-05-21 08:27:00</td>\n",
       "      <td>CCL</td>\n",
       "      <td>0.013952</td>\n",
       "    </tr>\n",
       "    <tr>\n",
       "      <th>912659</th>\n",
       "      <td>Top Performing Industries For August 9, 2016</td>\n",
       "      <td>2016-08-09 10:54:00</td>\n",
       "      <td>NTL</td>\n",
       "      <td>-0.010309</td>\n",
       "    </tr>\n",
       "    <tr>\n",
       "      <th>165581</th>\n",
       "      <td>Bridgeline DIgital Reports Q3 Loss $0.26 Vs Es...</td>\n",
       "      <td>2015-08-14 08:01:00</td>\n",
       "      <td>BLIN</td>\n",
       "      <td>-0.048276</td>\n",
       "    </tr>\n",
       "    <tr>\n",
       "      <th>1355251</th>\n",
       "      <td>Earnings Scheduled For March 24, 2015</td>\n",
       "      <td>2015-03-24 04:04:00</td>\n",
       "      <td>WSCI</td>\n",
       "      <td>0.001757</td>\n",
       "    </tr>\n",
       "    <tr>\n",
       "      <th>362331</th>\n",
       "      <td>Puts Purchased on Dick's Sporting Goods (DKS)</td>\n",
       "      <td>2011-01-06 12:40:00</td>\n",
       "      <td>DKS</td>\n",
       "      <td>-0.045442</td>\n",
       "    </tr>\n",
       "    <tr>\n",
       "      <th>...</th>\n",
       "      <td>...</td>\n",
       "      <td>...</td>\n",
       "      <td>...</td>\n",
       "      <td>...</td>\n",
       "    </tr>\n",
       "    <tr>\n",
       "      <th>1236358</th>\n",
       "      <td>Standpoint Research Downgrades Tempur-pedic In...</td>\n",
       "      <td>2013-10-01 11:17:00</td>\n",
       "      <td>TPX</td>\n",
       "      <td>0.023658</td>\n",
       "    </tr>\n",
       "    <tr>\n",
       "      <th>1370405</th>\n",
       "      <td>Sector Update: Utilities Leading, Consumer Goo...</td>\n",
       "      <td>2011-08-24 10:36:00</td>\n",
       "      <td>XLF</td>\n",
       "      <td>0.026678</td>\n",
       "    </tr>\n",
       "    <tr>\n",
       "      <th>90206</th>\n",
       "      <td>Aramark Acquires On-Demand Food Delivery Servi...</td>\n",
       "      <td>2019-08-06 06:44:00</td>\n",
       "      <td>ARMK</td>\n",
       "      <td>0.047018</td>\n",
       "    </tr>\n",
       "    <tr>\n",
       "      <th>1342675</th>\n",
       "      <td>Wheeler Real Estate Investment Trust Responds ...</td>\n",
       "      <td>2018-03-16 04:19:00</td>\n",
       "      <td>WHLR</td>\n",
       "      <td>0.064220</td>\n",
       "    </tr>\n",
       "    <tr>\n",
       "      <th>940789</th>\n",
       "      <td>Olin Reports Q1 EPS $(0.23) vs. Est. $0.22, Re...</td>\n",
       "      <td>2016-05-02 17:40:00</td>\n",
       "      <td>OLN</td>\n",
       "      <td>0.015110</td>\n",
       "    </tr>\n",
       "  </tbody>\n",
       "</table>\n",
       "<p>100 rows × 4 columns</p>\n",
       "</div>"
      ],
      "text/plain": [
       "                                                     title  \\\n",
       "219534   Benzinga’s Top Upgrades (SBNY, CCL, MPW, MA, F...   \n",
       "912659        Top Performing Industries For August 9, 2016   \n",
       "165581   Bridgeline DIgital Reports Q3 Loss $0.26 Vs Es...   \n",
       "1355251              Earnings Scheduled For March 24, 2015   \n",
       "362331       Puts Purchased on Dick's Sporting Goods (DKS)   \n",
       "...                                                    ...   \n",
       "1236358  Standpoint Research Downgrades Tempur-pedic In...   \n",
       "1370405  Sector Update: Utilities Leading, Consumer Goo...   \n",
       "90206    Aramark Acquires On-Demand Food Delivery Servi...   \n",
       "1342675  Wheeler Real Estate Investment Trust Responds ...   \n",
       "940789   Olin Reports Q1 EPS $(0.23) vs. Est. $0.22, Re...   \n",
       "\n",
       "                       date ticker   returns  \n",
       "219534  2010-05-21 08:27:00    CCL  0.013952  \n",
       "912659  2016-08-09 10:54:00    NTL -0.010309  \n",
       "165581  2015-08-14 08:01:00   BLIN -0.048276  \n",
       "1355251 2015-03-24 04:04:00   WSCI  0.001757  \n",
       "362331  2011-01-06 12:40:00    DKS -0.045442  \n",
       "...                     ...    ...       ...  \n",
       "1236358 2013-10-01 11:17:00    TPX  0.023658  \n",
       "1370405 2011-08-24 10:36:00    XLF  0.026678  \n",
       "90206   2019-08-06 06:44:00   ARMK  0.047018  \n",
       "1342675 2018-03-16 04:19:00   WHLR  0.064220  \n",
       "940789  2016-05-02 17:40:00    OLN  0.015110  \n",
       "\n",
       "[100 rows x 4 columns]"
      ]
     },
     "execution_count": 15,
     "metadata": {},
     "output_type": "execute_result"
    }
   ],
   "source": [
    "dataset = pd.read_pickle('Data/small_test_set.pkl')\n",
    "dataset"
   ]
  },
  {
   "cell_type": "markdown",
   "metadata": {},
   "source": [
    "### Split Dataset into Train, Validation, and Test\n",
    "- Train (80%)\n",
    "- Test (10%)\n",
    "- Validation (10%)"
   ]
  },
  {
   "cell_type": "code",
   "execution_count": 12,
   "metadata": {},
   "outputs": [],
   "source": [
    "def split(df):\n",
    "    x_train, x_test_and_val, y_train, y_test_and_val  = train_test_split(df['title'], df['returns'], random_state=42, test_size=0.2) # train set is 80%,\n",
    "    x_test, x_val, y_test, y_val = train_test_split(x_test_and_val, y_test_and_val, test_size=0.5, random_state=42) # test and val are 50% of the remaining 20% = 10%. \n",
    "    return x_train, y_train, x_val, y_val, x_test, y_test\n",
    "\n",
    "x_train, y_train, x_val, y_val, x_test, y_test = split(dataset)"
   ]
  },
  {
   "cell_type": "markdown",
   "metadata": {},
   "source": [
    "### Finbert Model Training"
   ]
  },
  {
   "cell_type": "code",
   "execution_count": 14,
   "metadata": {},
   "outputs": [],
   "source": [
    "tokenizer = AutoTokenizer.from_pretrained(\"ProsusAI/finbert\")\n",
    "model = AutoModelForSequenceClassification.from_pretrained(\"ProsusAI/finbert\")"
   ]
  },
  {
   "cell_type": "code",
   "execution_count": null,
   "metadata": {},
   "outputs": [],
   "source": [
    "#Predict function from the previuos homework modified to work with the Question and Format\n",
    "def predict_samples(titles, model, tokenizer):\n",
    "    predictions = []\n",
    " \n",
    "    for titles in tqdm(zip(contexts, questions), total=len(titles)):\n",
    "        # Tokenize the samples\n",
    "        input = tokenizer(titles, padding=True, truncation=True, return_tensors=\"pt\")\n",
    "        input.to(model.device)\n",
    "        # Generate output\n",
    "        output = model(**input)\n",
    "        \n",
    "        prediction = tokenizer.decode(output, skip_special_tokens=True)\n",
    "        predictions.append(prediction)\n",
    "\n",
    "    return predictions"
   ]
  },
  {
   "cell_type": "code",
   "execution_count": null,
   "metadata": {},
   "outputs": [],
   "source": [
    "\n",
    "\n",
    "optimizer = AdamW(model.parameters(), lr=5e-5)\n",
    "\n",
    "\n",
    "\n",
    "num_epochs = 3\n",
    "num_training_steps = num_epochs * len(train_dataloader)\n",
    "lr_scheduler = get_scheduler(\n",
    "    name=\"linear\", optimizer=optimizer, num_warmup_steps=0, num_training_steps=num_training_steps\n",
    ")\n",
    "\n",
    "from tqdm.auto import tqdm\n",
    "\n",
    "progress_bar = tqdm(range(num_training_steps))\n",
    "\n",
    "model.train()\n",
    "for epoch in range(num_epochs):\n",
    "    for batch in train_dataloader:\n",
    "        batch = {k: v.to(device) for k, v in batch.items()}\n",
    "        outputs = model(**batch)\n",
    "        loss = outputs.loss\n",
    "        loss.backward()\n",
    "\n",
    "        optimizer.step()\n",
    "        lr_scheduler.step()\n",
    "        optimizer.zero_grad()\n",
    "        progress_bar.update(1)"
   ]
  },
  {
   "cell_type": "markdown",
   "metadata": {},
   "source": [
    "CAVIN WORK"
   ]
  },
  {
   "cell_type": "code",
   "execution_count": null,
   "metadata": {},
   "outputs": [],
   "source": [
    "import tensorflow as tf\n",
    "from transformers import BertTokenizer, TFBertModel\n",
    "from sklearn.model_selection import train_test_split\n",
    "\n",
    "# Load pre-trained BERT model and tokenizer\n",
    "tokenizer = BertTokenizer.from_pretrained('bert-base-uncased')\n",
    "bert_model = TFBertModel.from_pretrained('bert-base-uncased')\n",
    "\n",
    "df = dataset\n",
    "\n",
    "# Tokenize and preprocess the input data\n",
    "tokenized_inputs = tokenizer(df['article_titles'].tolist(), padding=True, truncation=True, return_tensors='tf')\n",
    "\n",
    "# Split the data into training and testing sets\n",
    "X_train, X_test, y_train, y_test = train_test_split(tokenized_inputs, df['stock_returns'], test_size=0.2, random_state=42)\n",
    "\n",
    "# Build a model architecture\n",
    "input_ids = tf.keras.layers.Input(shape=(max_length,), dtype=tf.int32)\n",
    "outputs = bert_model(input_ids)[1]  # Extract pooled output\n",
    "outputs = tf.keras.layers.Dense(1, activation='linear')(outputs)  # Regression layer\n",
    "\n",
    "model = tf.keras.Model(inputs=input_ids, outputs=outputs)\n",
    "model.compile(optimizer='adam', loss='mse')  # Mean Squared Error loss for regression\n",
    "\n",
    "# Train the model\n",
    "model.fit(X_train['input_ids'], y_train, epochs=5, validation_data=(X_test['input_ids'], y_test))\n",
    "\n",
    "# Evaluate the model\n",
    "mse = model.evaluate(X_test['input_ids'], y_test)\n",
    "print(f'Mean Squared Error on test set: {mse}')\n",
    "\n",
    "# Make predictions\n",
    "predictions = model.predict(X_test['input_ids'])\n"
   ]
  },
  {
   "cell_type": "markdown",
   "metadata": {},
   "source": [
    "BERT Model Training"
   ]
  },
  {
   "cell_type": "code",
   "execution_count": null,
   "metadata": {},
   "outputs": [],
   "source": []
  }
 ],
 "metadata": {
  "kernelspec": {
   "display_name": "base",
   "language": "python",
   "name": "python3"
  },
  "language_info": {
   "codemirror_mode": {
    "name": "ipython",
    "version": 3
   },
   "file_extension": ".py",
   "mimetype": "text/x-python",
   "name": "python",
   "nbconvert_exporter": "python",
   "pygments_lexer": "ipython3",
   "version": "3.9.13"
  }
 },
 "nbformat": 4,
 "nbformat_minor": 2
}
